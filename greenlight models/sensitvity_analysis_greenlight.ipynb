{
 "cells": [
  {
   "cell_type": "markdown",
   "metadata": {},
   "source": [
    "# Sensitivity Analysis\n",
    "\n",
    "Made by Laura van Geene, Spring 2024, for MSc thesis research.\n",
    "\n",
    "File must be run in combination with 'full_model_greenlight.py'\n",
    "\n",
    "Code requires data files to run:\n",
    "- Figaro IO-table (download from Figaro website)\n",
    "- Figaro CO2 extensions (download from Figaro website)\n",
    "- Figaro sector and region labels (region_labels.txt and sector_labels.txt)\n",
    "- List of elasticities (for this research: Elasticities Thesis.xlsx)\n",
    "- List of expenditures to include in analysis from CBS Dataset (main_expenditures.xlsx)\n",
    "- Installation of Python library cbsodata (can be installed via pip)\n",
    "- Concordance table for CBS and Figaro data (Concordance Table COICOP-Figaro.csv)\n",
    "\n",
    "Put datafiles in folder called 'data'"
   ]
  },
  {
   "cell_type": "code",
   "execution_count": null,
   "metadata": {},
   "outputs": [],
   "source": [
    "import numpy as np\n",
    "import pandas as pd\n",
    "import cbsodata #for CBS data import\n",
    "import matplotlib.pyplot as plt\n",
    "from matplotlib.patches import Patch\n",
    "import matplotlib\n",
    "import seaborn as sns"
   ]
  },
  {
   "cell_type": "code",
   "execution_count": null,
   "metadata": {},
   "outputs": [],
   "source": [
    "#import analysis functions\n",
    "from full_model_greenlight import import_figaro, CBS_Data, do_input_output_energy, do_input_output_NL, concordance\n",
    "from full_model_greenlight import do_analysis, do_analysis_energy, do_consumption_analysis, do_consumption_analysis_energy"
   ]
  },
  {
   "cell_type": "code",
   "execution_count": null,
   "metadata": {},
   "outputs": [],
   "source": [
    "#set up file pats\n",
    "filepath=\"data/Figaro/\"\n",
    "filepath2=\"data/\""
   ]
  },
  {
   "cell_type": "code",
   "execution_count": null,
   "metadata": {},
   "outputs": [],
   "source": [
    "#import IO data and calculate MRIO variables\n",
    "A, A_old, L, A_trans, L_trans, inv_diag_x_, x, Y, v0, fco2, multi_index, start_NL, end_NL, v_df, sector_labels = import_figaro(filepath)"
   ]
  },
  {
   "cell_type": "code",
   "execution_count": null,
   "metadata": {},
   "outputs": [],
   "source": [
    "#import the consumption table from CBS\n",
    "consumption_table=CBS_Data(filepath2)"
   ]
  },
  {
   "cell_type": "code",
   "execution_count": null,
   "metadata": {},
   "outputs": [],
   "source": [
    "#Import DNB Elasticities\n",
    "Bun_elasticities=pd.read_excel(f'{filepath2}Elasticities Thesis.xlsx', sheet_name='BUN', usecols=[2], index_col=None)\n",
    "Bun_elasticities=Bun_elasticities.squeeze() #turns into array\n",
    "Bun_elas_list=Bun_elasticities.tolist() #turns into list"
   ]
  },
  {
   "cell_type": "markdown",
   "metadata": {},
   "source": [
    "### Run conventional model"
   ]
  },
  {
   "cell_type": "code",
   "execution_count": null,
   "metadata": {},
   "outputs": [],
   "source": [
    "sectors= sector_labels\n",
    "the_prices=[0.05, 0.15, 0.25]\n",
    "sigma_list=Bun_elas_list"
   ]
  },
  {
   "cell_type": "code",
   "execution_count": null,
   "metadata": {},
   "outputs": [],
   "source": [
    "results_CPI_NL={} #CPI outcomes\n",
    "results_LPM_NL={} #sectoral price changes\n",
    "results_A_star_sub_NL={}\n",
    "results_A_star_tech_NL={}\n",
    "consumption_NL={}"
   ]
  },
  {
   "cell_type": "code",
   "execution_count": null,
   "metadata": {},
   "outputs": [],
   "source": [
    "for price in the_prices:\n",
    "    #calculate CPI\n",
    "    result_NL, result_tax_NL, A_star_sub, A_star_tech = do_analysis_energy(price, sectors, sigma_list, filepath, filepath2, consumption_table, start_NL, end_NL, None, None)\n",
    "    results_CPI_NL[f'{price}']=result_NL\n",
    "    results_LPM_NL[f'{price}']= result_tax_NL\n",
    "    results_A_star_sub_NL[f'{price}']=A_star_sub\n",
    "    results_A_star_tech_NL[f'{price}']=A_star_tech\n",
    "    \n",
    "    #consumption analysis\n",
    "    collapsed_LPM_NL=do_consumption_analysis(filepath, filepath2, price, sectors, sigma_list, start_NL, end_NL, None, None)\n",
    "    consumption_NL[f'{price}']=collapsed_LPM_NL"
   ]
  },
  {
   "cell_type": "code",
   "execution_count": null,
   "metadata": {},
   "outputs": [],
   "source": [
    "#Consumer Price Index\n",
    "results_CPI_50_NL=results_CPI_NL['0.05']\n",
    "results_CPI_150_NL=results_CPI_NL['0.15']\n",
    "results_CPI_250_NL=results_CPI_NL['0.25']\n",
    "\n",
    "#Sectoral price changes\n",
    "results_50_LPM_NL=results_LPM_NL['0.05']\n",
    "results_150_LPM_NL=results_LPM_NL['0.15']\n",
    "results_250_LPM_NL=results_LPM_NL['0.25']\n",
    "\n",
    "#collect consumption analysis results\n",
    "consumption_50=consumption_NL['0.05']\n",
    "consumption_50_NL=pd.Series(consumption_50.squeeze())\n",
    "consumption_150=consumption_NL['0.15']\n",
    "consumption_150_NL=pd.Series(consumption_150.squeeze())\n",
    "consumption_250=consumption_NL['0.25']\n",
    "consumption_250_NL=pd.Series(consumption_250.squeeze())"
   ]
  },
  {
   "cell_type": "markdown",
   "metadata": {},
   "source": [
    "### Change elasticity for electricity sector"
   ]
  },
  {
   "cell_type": "code",
   "execution_count": null,
   "metadata": {},
   "outputs": [],
   "source": [
    "results_CPI_150={} #CPI outcomes\n",
    "results_LPM_150={} #sectoral price changes\n",
    "results_A_star_sub_150={}\n",
    "results_A_star_tech_150={}"
   ]
  },
  {
   "cell_type": "code",
   "execution_count": null,
   "metadata": {},
   "outputs": [],
   "source": [
    "sectors = sector_labels\n",
    "sigma_list = Bun_elas_list\n",
    "the_prices = [0.15, 0.15, 0.15, 0.15]\n",
    "the_weird_sectors = [\"Electricity, gas, steam and air conditioning supply\", \"Electricity, gas, steam and air conditioning supply\", \"Electricity, gas, steam and air conditioning supply\",\"Electricity, gas, steam and air conditioning supply\"]\n",
    "the_weird_sigmas = [0.3, 0.5, 0.7, 1.0]\n",
    "\n",
    "for price, weird_sector, weird_sigma in zip(the_prices, the_weird_sectors, the_weird_sigmas):\n",
    "    #print(price)\n",
    "    #print(weird_sector)\n",
    "    #print(weird_sigma)\n",
    "    result_energy, result_tax_energy, A_star_sub, A_star_tech = do_analysis_energy(price, sectors, sigma_list, filepath, filepath2, consumption_table, start_NL, end_NL, weird_sector, weird_sigma)\n",
    "    results_CPI_150[f'{weird_sigma}']=result_energy\n",
    "    results_LPM_150[f'{weird_sigma}']=result_tax_energy\n",
    "\n",
    "        "
   ]
  },
  {
   "cell_type": "code",
   "execution_count": null,
   "metadata": {},
   "outputs": [],
   "source": [
    "#isolate CPIs for different elasticities\n",
    "result_CPI_3_150=results_CPI_150['0.3'].iloc[:, -2:]\n",
    "result_CPI_5_150=results_CPI_150['0.5'].iloc[:, -2:]\n",
    "result_CPI_7_150=results_CPI_150['0.7'].iloc[:, -2:]\n",
    "result_CPI_one_150=results_CPI_150['1.0'].iloc[:, -2:]\n",
    "\n",
    "#isolate top 5 contributors\n",
    "results_LPM_3_150=results_LPM_150[\"0.3\"].loc[\"the Netherlands\", :].nlargest(5, 'no substitution')\n",
    "results_LPM_5_150=results_LPM_150['0.5'].loc[\"the Netherlands\", :].nlargest(5, 'no substitution')\n",
    "results_LPM_7_150=results_LPM_150['0.7'].loc[\"the Netherlands\", :].nlargest(5, 'no substitution')\n",
    "results_LPM_one_150=results_LPM_150['1.0'].loc[\"the Netherlands\", :].nlargest(5, 'no substitution')"
   ]
  },
  {
   "cell_type": "code",
   "execution_count": null,
   "metadata": {},
   "outputs": [],
   "source": [
    "#compile all results into big table\n",
    "sensitivity_results_CPI=pd.concat([result_CPI_3_150, result_CPI_5_150, result_CPI_7_150, result_CPI_one_150], ignore_index=True)\n",
    "sensitivity_results_CPI=pd.DataFrame(sensitivity_results_CPI.values, columns=[\"65 to 75\", \"75 and older\"])"
   ]
  },
  {
   "cell_type": "code",
   "execution_count": null,
   "metadata": {},
   "outputs": [],
   "source": [
    "#create appropriate index\n",
    "elas=[0.3, 0.5, 0.7, 1.0]\n",
    "substitution_cat=['without substitution', 'with capital/labour subst.']\n",
    "big_multi_index=pd.MultiIndex.from_product([elas, substitution_cat], names=['Elasticity','Substitution Type'])\n",
    "\n",
    "#make table\n",
    "sensitivity_results_CPI=sensitivity_results_CPI.set_index(big_multi_index)\n",
    "sensitivity_results_CPI.round(2)"
   ]
  },
  {
   "cell_type": "code",
   "execution_count": null,
   "metadata": {},
   "outputs": [],
   "source": [
    "#make big table for sectoral price changes\n",
    "sensitivity_results_LPM=pd.concat([results_LPM_3_150, results_LPM_5_150, results_LPM_7_150, results_LPM_one_150], ignore_index=True)\n",
    "\n",
    "#make index\n",
    "elas=[0.3, 0.5, 0.7, 1.0]\n",
    "sect=['Electricity, gas, steam and air conditioning supply', 'Other professional, scientific and veterinary activities', 'Security, service and landscape, office support activities', 'Manufacture of basic metals', 'Activities of membership organisations']\n",
    "big_multi_index=pd.MultiIndex.from_product([elas, sect], names=['Elasticity', 'Sector'])\n",
    "\n",
    "#make overview table for results\n",
    "sensitivity_results_LPM=pd.DataFrame(sensitivity_results_LPM.values, big_multi_index, columns=substitution_cat)\n",
    "sensitivity_results_LPM=(sensitivity_results_LPM-1)*100\n",
    "sensitivity_results_LPM.drop([\"without substitution\"], axis=1).round(2)"
   ]
  }
 ],
 "metadata": {
  "kernelspec": {
   "display_name": "eeioa",
   "language": "python",
   "name": "python3"
  },
  "language_info": {
   "codemirror_mode": {
    "name": "ipython",
    "version": 3
   },
   "file_extension": ".py",
   "mimetype": "text/x-python",
   "name": "python",
   "nbconvert_exporter": "python",
   "pygments_lexer": "ipython3",
   "version": "3.11.0"
  }
 },
 "nbformat": 4,
 "nbformat_minor": 2
}
